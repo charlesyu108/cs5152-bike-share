{
 "cells": [
  {
   "cell_type": "code",
   "execution_count": 19,
   "metadata": {},
   "outputs": [
    {
     "data": {
      "text/plain": [
       "True"
      ]
     },
     "execution_count": 19,
     "metadata": {},
     "output_type": "execute_result"
    }
   ],
   "source": [
    "import hashlib\n",
    "import json\n",
    "import numpy as np\n",
    "import os\n",
    "import pandas as pd\n",
    "import pickle\n",
    "import requests\n",
    "\n",
    "from azure.storage.queue import QueueService\n",
    "from datetime import datetime, timedelta\n",
    "from dotenv import load_dotenv, find_dotenv\n",
    "from sklearn.ensemble import RandomForestClassifier\n",
    "from os.path import join, dirname\n",
    "\n",
    "load_dotenv(find_dotenv())"
   ]
  },
  {
   "cell_type": "markdown",
   "metadata": {},
   "source": [
    "## Data format:\n",
    "\n",
    "```\n",
    "{\n",
    "\"info\": \n",
    "    {\n",
    "    \"station\": 1244, \n",
    "    \"type\": \"TAKE\", \n",
    "    \"user\": \"charles.yu\", \n",
    "    \"time\": 1555776040\n",
    "    }, \n",
    "\"type\": \"TAKE\" // \"RETURN\"\n",
    "}\n",
    "```"
   ]
  },
  {
   "cell_type": "code",
   "execution_count": 173,
   "metadata": {},
   "outputs": [],
   "source": [
    "ACCOUNT_KEY = os.getenv('ACCOUNT_KEY')\n",
    "ACCOUNT_NAME = os.getenv('ACCOUNT_NAME')\n",
    "MAX_MESSAGE_LIMIT = 32\n",
    "QUEUE_NAME = 'batchqueue'\n",
    "\n",
    "infile = open('station_cols','rb')\n",
    "columns = pickle.load(infile)\n",
    "infile = open('model','rb')\n",
    "model = pickle.load(infile)\n",
    "\n",
    "queue_service = QueueService(account_name=ACCOUNT_NAME, account_key=ACCOUNT_KEY)\n",
    "\n",
    "def get_queue_data():\n",
    "    messages = queue_service.peek_messages(QUEUE_NAME, num_messages=32)\n",
    "    deltas = { station: 0 for station in columns }\n",
    "    for message in messages:\n",
    "#         print(message.content)\n",
    "        event = parse_result(message.content)\n",
    "        if event.event_type == 'TAKE':\n",
    "            deltas[event.station] -= 1\n",
    "        else:\n",
    "            deltas[event.station] += 1\n",
    "#         queue_service.delete_message(QUEUE_NAME, message.id, message.pop_receipt)\n",
    "    last_msg = parse_result(messages[-1].content)\n",
    "    deltas['time'] = last_msg.time\n",
    "    deltas = { k: [v] for k, v in deltas.items() }\n",
    "#     print(deltas)\n",
    "    df = pd.DataFrame.from_dict(deltas)\n",
    "    return model.predict(df)"
   ]
  },
  {
   "cell_type": "code",
   "execution_count": 166,
   "metadata": {},
   "outputs": [],
   "source": [
    "def add_dummy_task():\n",
    "    task_str = '{\"info\": {\"station\": 4177, \"type\": \"RETURN\", \"user\": \"charles.yu\", \"time\": 1555776040}, \"type\": \"RETURN\"}'\n",
    "    queue_service.put_message(QUEUE_NAME, task_str)\n",
    "add_dummy_task()"
   ]
  },
  {
   "cell_type": "code",
   "execution_count": 167,
   "metadata": {},
   "outputs": [],
   "source": [
    "class Event:\n",
    "    def __init__(self, event_type, station, time):\n",
    "        self.event_type = event_type\n",
    "        self.station = station\n",
    "        self.time = time\n",
    "\n",
    "def parse_result(message):\n",
    "    msg = json.loads(message)\n",
    "    info = msg['info']\n",
    "    return Event(info['type'], info['station'], info['time'])"
   ]
  },
  {
   "cell_type": "code",
   "execution_count": 174,
   "metadata": {},
   "outputs": [
    {
     "data": {
      "text/plain": [
       "array([4175.69])"
      ]
     },
     "execution_count": 174,
     "metadata": {},
     "output_type": "execute_result"
    }
   ],
   "source": [
    "get_queue_data()"
   ]
  },
  {
   "cell_type": "code",
   "execution_count": null,
   "metadata": {},
   "outputs": [],
   "source": []
  }
 ],
 "metadata": {
  "kernelspec": {
   "display_name": "Python 3",
   "language": "python",
   "name": "python3"
  },
  "language_info": {
   "codemirror_mode": {
    "name": "ipython",
    "version": 3
   },
   "file_extension": ".py",
   "mimetype": "text/x-python",
   "name": "python",
   "nbconvert_exporter": "python",
   "pygments_lexer": "ipython3",
   "version": "3.7.2"
  }
 },
 "nbformat": 4,
 "nbformat_minor": 2
}
